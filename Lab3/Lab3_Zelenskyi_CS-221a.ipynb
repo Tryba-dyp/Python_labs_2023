{
 "cells": [
  {
   "cell_type": "markdown",
   "id": "d61da6b9-03fc-4a68-a539-f3937733f734",
   "metadata": {},
   "source": [
    "# <center>Лабораторна робота №3</center>\n",
    "## <center>Злиття датафреймів, агрегування даних та візуалізація даних</center>\n",
    "### Мета: Вивчення функцій Pandas для злиття, агрегування та візуалізації даних.\n",
    "### Завдання:\n",
    "В цій лабораторній роботі потрібно використовувати методи Pandas для злиття та агрегування, використовувати атрибути `loc`, `iloc` та слайсинг. НЕ використовувати спискові включення та інші методи ітерування всередині структур даних (для завдань 1-14).\n",
    "### <center>Хід роботи</center>"
   ]
  },
  {
   "attachments": {},
   "cell_type": "markdown",
   "id": "46fcc83b-fbae-4030-8592-d1594b02514a",
   "metadata": {},
   "source": [
    "\n",
    "1. Загрузити файл з даними про споживання енергії `\"En_In.xls\"`, який являє собою перелік показників енергозабезпечення та виробництва відновлюваної електроенергії, і ввести їх в DataFrame.  \n",
    "Майте на увазі, що це файл `Excel`, а не `.csv`. Також необхідно НЕ ВКЛЮЧАТИ інформацію з нижніх та верхніх рядків файлу даних. Перші два стовпці непотрібні, тому їх необхідно виключити із датафрейму, а також поміняти мітки стовпців так, щоб вони були такими:  \n",
    "`['Country', 'Energy Supply', 'Energy Supply per Capita', '% Renewable']`."
   ]
  },
  {
   "cell_type": "code",
   "execution_count": 1,
   "id": "04ddef18-f761-476b-b646-b7a7cb13092e",
   "metadata": {},
   "outputs": [],
   "source": [
    "import pandas as pd\n",
    "import numpy as np\n",
    "\n",
    "Energy = pd.read_excel('En_In.xls', skiprows=16, skipfooter=38)\n",
    "Energy = Energy.drop(0)\n",
    "Energy = Energy[['Unnamed: 2', 'Energy Supply', 'Energy Supply per capita', 'Renewable Electricity Production']]\n",
    "Energy.columns = ['Country', 'Energy Supply', 'Energy Supply per Capita', '% Renewable']\n",
    "pd.set_option('display.float_format', '{:.3f}'.format)"
   ]
  },
  {
   "cell_type": "markdown",
   "id": "42c40e40-2926-4311-97f3-e71ed77f013c",
   "metadata": {},
   "source": [
    "\n",
    "2. Переведіть дані із стовпчику `'Energy Supply'` в гДж (*Примітка: в 1ПДж = 1000000 ГДж).* Для всіх країн, у яких відсутні дані (наприклад, дані з \".....\"), переконайтеся, що це відображається як значення `np.NaN`."
   ]
  },
  {
   "cell_type": "code",
   "execution_count": 2,
   "id": "99b5cdc7-4468-4d66-81ba-cb258147215c",
   "metadata": {},
   "outputs": [],
   "source": [
    "Energy.replace('...', np.nan, inplace=True)\n",
    "Energy['Energy Supply'] = Energy['Energy Supply'] * 1000000"
   ]
  },
  {
   "cell_type": "markdown",
   "id": "a5258002-6fd0-46f5-a313-6af4dc4966cf",
   "metadata": {},
   "source": [
    "3. Перейменуйте наступний список країн:  \n",
    "\"Republic of Korea\": **\"South Korea\"**,  \n",
    "\"United States of America\": **\"United States\"**,  \n",
    "\"United Kingdom of Great Britain and Northern Ireland\": **\"United Kingdom\"**,  \n",
    "\"China, Hong Kong Special Administrative Region\": **\"Hong Kong\"**"
   ]
  },
  {
   "cell_type": "markdown",
   "id": "c6c2178b-37da-482c-b509-1543f6365787",
   "metadata": {},
   "source": [
    "4. Існує також декілька країн, що мають в назві цифри та/або дужки.\n",
    "Обов’язково видаліть їх, напр. **'Bolivia (Plurinational State of)'** повинна бути **'Bolivia'**, **'Switzerland17'** повинна бути **'Switzerland'**."
   ]
  },
  {
   "cell_type": "code",
   "execution_count": 3,
   "id": "ee3338e4-6579-4fee-8abd-f067d8425c0f",
   "metadata": {},
   "outputs": [],
   "source": [
    "import re\n",
    "\n",
    "country_energy_map = {\n",
    "    \"Republic of Korea\": \"South Korea\",\n",
    "    \"United States of America\": \"United States\",\n",
    "    \"United Kingdom of Great Britain and Northern Ireland\": \"United Kingdom\",\n",
    "    \"China, Hong Kong Special Administrative Region\": \"Hong Kong\"\n",
    "}\n",
    "\n",
    "Energy['Country'] = Energy['Country'].apply(lambda x: re.sub(r'(\\d+)|(\\s*\\([^)]*\\))', '', x))\n",
    "Energy['Country'].replace(country_energy_map, inplace=True)"
   ]
  },
  {
   "cell_type": "markdown",
   "id": "45341bcd-9e13-4255-be78-7b6c85a82601",
   "metadata": {},
   "source": [
    "*Вивід для завдань 1-4*:"
   ]
  },
  {
   "cell_type": "code",
   "execution_count": 4,
   "id": "34cbe7e5-4d6c-467d-9404-e032c7effe97",
   "metadata": {},
   "outputs": [
    {
     "data": {
      "text/html": [
       "<div>\n",
       "<style scoped>\n",
       "    .dataframe tbody tr th:only-of-type {\n",
       "        vertical-align: middle;\n",
       "    }\n",
       "\n",
       "    .dataframe tbody tr th {\n",
       "        vertical-align: top;\n",
       "    }\n",
       "\n",
       "    .dataframe thead th {\n",
       "        text-align: right;\n",
       "    }\n",
       "</style>\n",
       "<table border=\"1\" class=\"dataframe\">\n",
       "  <thead>\n",
       "    <tr style=\"text-align: right;\">\n",
       "      <th></th>\n",
       "      <th>Country</th>\n",
       "      <th>Energy Supply</th>\n",
       "      <th>Energy Supply per Capita</th>\n",
       "      <th>% Renewable</th>\n",
       "    </tr>\n",
       "  </thead>\n",
       "  <tbody>\n",
       "    <tr>\n",
       "      <th>4</th>\n",
       "      <td>American Samoa</td>\n",
       "      <td>NaN</td>\n",
       "      <td>NaN</td>\n",
       "      <td>0.641</td>\n",
       "    </tr>\n",
       "    <tr>\n",
       "      <th>25</th>\n",
       "      <td>Bolivia</td>\n",
       "      <td>336000000.000</td>\n",
       "      <td>32.000</td>\n",
       "      <td>31.477</td>\n",
       "    </tr>\n",
       "    <tr>\n",
       "      <th>165</th>\n",
       "      <td>South Korea</td>\n",
       "      <td>11007000000.000</td>\n",
       "      <td>221.000</td>\n",
       "      <td>2.279</td>\n",
       "    </tr>\n",
       "  </tbody>\n",
       "</table>\n",
       "</div>"
      ],
      "text/plain": [
       "            Country   Energy Supply  Energy Supply per Capita  % Renewable\n",
       "4    American Samoa             NaN                       NaN        0.641\n",
       "25          Bolivia   336000000.000                    32.000       31.477\n",
       "165     South Korea 11007000000.000                   221.000        2.279"
      ]
     },
     "execution_count": 4,
     "metadata": {},
     "output_type": "execute_result"
    }
   ],
   "source": [
    "Energy.loc[Energy['Country'].isin(['American Samoa', 'South Korea', 'Bolivia'])]"
   ]
  },
  {
   "cell_type": "markdown",
   "id": "cbcf82fe-4eb4-4aeb-b6e0-c9a8d65e9cc8",
   "metadata": {},
   "source": [
    "5. Далі, завантажте дані про ВВП з файлу `\"gpd.csv\"`, що містить дані Світового банку про ВВП країн від 1960 до 2015 року.  \n",
    "Обов’язково не включайте заголовок до датафрейму і перейменуйте наступний список країн:  \n",
    "\"Korea, Rep.\": **\"South Korea\"**,  \n",
    "\"Iran, Islamic Rep.\": **\"Iran\"**,  \n",
    "\"Hong Kong SAR, China\": **\"Hong Kong\"**"
   ]
  },
  {
   "cell_type": "code",
   "execution_count": 5,
   "id": "ec634739-9e53-429d-a7bf-2f3e8ecfb4d1",
   "metadata": {},
   "outputs": [],
   "source": [
    "GDP = pd.read_csv('gpd.csv', skiprows=4)\n",
    "\n",
    "country_gdp_map = {\n",
    "    \"Korea, Rep.\": \"South Korea\",\n",
    "    \"Iran, Islamic Rep.\": \"Iran\",\n",
    "    \"Hong Kong SAR, China\": \"Hong Kong\"\n",
    "}\n",
    "\n",
    "GDP.rename(columns={'Country Name': 'Country'}, inplace=True)\n",
    "GDP['Country'].replace(country_gdp_map, inplace=True)"
   ]
  },
  {
   "cell_type": "markdown",
   "id": "10140519-9a0f-40c3-9488-82ac519cc0f5",
   "metadata": {},
   "source": [
    "*Вивід для завдання 5*:"
   ]
  },
  {
   "cell_type": "code",
   "execution_count": 6,
   "id": "c9984189-6707-4f75-acc6-d5e052c06504",
   "metadata": {},
   "outputs": [
    {
     "data": {
      "text/html": [
       "<div>\n",
       "<style scoped>\n",
       "    .dataframe tbody tr th:only-of-type {\n",
       "        vertical-align: middle;\n",
       "    }\n",
       "\n",
       "    .dataframe tbody tr th {\n",
       "        vertical-align: top;\n",
       "    }\n",
       "\n",
       "    .dataframe thead th {\n",
       "        text-align: right;\n",
       "    }\n",
       "</style>\n",
       "<table border=\"1\" class=\"dataframe\">\n",
       "  <thead>\n",
       "    <tr style=\"text-align: right;\">\n",
       "      <th></th>\n",
       "      <th>Country</th>\n",
       "      <th>Country Code</th>\n",
       "      <th>Indicator Name</th>\n",
       "      <th>Indicator Code</th>\n",
       "      <th>1960</th>\n",
       "      <th>1961</th>\n",
       "      <th>1962</th>\n",
       "      <th>1963</th>\n",
       "      <th>1964</th>\n",
       "      <th>1965</th>\n",
       "      <th>...</th>\n",
       "      <th>2006</th>\n",
       "      <th>2007</th>\n",
       "      <th>2008</th>\n",
       "      <th>2009</th>\n",
       "      <th>2010</th>\n",
       "      <th>2011</th>\n",
       "      <th>2012</th>\n",
       "      <th>2013</th>\n",
       "      <th>2014</th>\n",
       "      <th>2015</th>\n",
       "    </tr>\n",
       "  </thead>\n",
       "  <tbody>\n",
       "    <tr>\n",
       "      <th>0</th>\n",
       "      <td>Aruba</td>\n",
       "      <td>ABW</td>\n",
       "      <td>GDP at market prices (constant 2010 US$)</td>\n",
       "      <td>NY.GDP.MKTP.KD</td>\n",
       "      <td>NaN</td>\n",
       "      <td>NaN</td>\n",
       "      <td>NaN</td>\n",
       "      <td>NaN</td>\n",
       "      <td>NaN</td>\n",
       "      <td>NaN</td>\n",
       "      <td>...</td>\n",
       "      <td>NaN</td>\n",
       "      <td>NaN</td>\n",
       "      <td>NaN</td>\n",
       "      <td>NaN</td>\n",
       "      <td>2467703910.615</td>\n",
       "      <td>NaN</td>\n",
       "      <td>NaN</td>\n",
       "      <td>NaN</td>\n",
       "      <td>NaN</td>\n",
       "      <td>NaN</td>\n",
       "    </tr>\n",
       "  </tbody>\n",
       "</table>\n",
       "<p>1 rows × 60 columns</p>\n",
       "</div>"
      ],
      "text/plain": [
       "  Country Country Code                            Indicator Name  \\\n",
       "0   Aruba          ABW  GDP at market prices (constant 2010 US$)   \n",
       "\n",
       "   Indicator Code  1960  1961  1962  1963  1964  1965  ...  2006  2007  2008  \\\n",
       "0  NY.GDP.MKTP.KD   NaN   NaN   NaN   NaN   NaN   NaN  ...   NaN   NaN   NaN   \n",
       "\n",
       "   2009           2010  2011  2012  2013  2014  2015  \n",
       "0   NaN 2467703910.615   NaN   NaN   NaN   NaN   NaN  \n",
       "\n",
       "[1 rows x 60 columns]"
      ]
     },
     "execution_count": 6,
     "metadata": {},
     "output_type": "execute_result"
    }
   ],
   "source": [
    "GDP.head(1)"
   ]
  },
  {
   "cell_type": "markdown",
   "id": "19de4fd6-a7d4-4d20-945f-ab21e28a4ec2",
   "metadata": {},
   "source": [
    "6. Завантажте дані з файлу „scimagojr.xlsx”, який класифікує країни на основі їхніх публікацій в журналах у галузі енергетичного машинобудування та енергетичних технологій."
   ]
  },
  {
   "cell_type": "code",
   "execution_count": 7,
   "id": "cdbe6742-1480-43d4-894d-cb6cd4eabbdd",
   "metadata": {},
   "outputs": [],
   "source": [
    "Scimagojr = pd.read_excel('scimagojr.xlsx')"
   ]
  },
  {
   "cell_type": "markdown",
   "id": "c7cc3944-9527-43a7-8882-d12be3fcb562",
   "metadata": {},
   "source": [
    "7. Приєднайте три набори даних із завдань 1-6 до нового набору даних (використовуючи перетин назв країн).\n",
    "- Використовуйте лише дані про ВВП за останні 10 років (2006-2015 рр.) і лише 15 найкращих країн за рейтингом Scimagojr (Rank від 1 до 15)\n",
    "- Індексом цього DataFrame повинна бути назва країни, а стовпцями мають бути `['Rank', 'Documents', 'Citable documents', 'Citations', 'Self-citations', 'Citations per document', 'H index', 'Energy Supply', 'Energy Supply per Capita', '% Renewable', '2006', '2007', '2008', '2009', '2010', '2011', '2012', '2013', '2014', '2015']`.  \n",
    "\n",
    "Ви повинні отримати DataFrame з 15 рядками та 20 стовпцями."
   ]
  },
  {
   "cell_type": "code",
   "execution_count": 8,
   "id": "ab81aea5-018b-42e6-9085-566f1a3c01be",
   "metadata": {},
   "outputs": [],
   "source": [
    "GDP_selected_data = GDP[['Country', '2006', '2007', '2008', '2009', '2010', '2011', '2012', '2013', '2014', '2015']]\n",
    "Scimagojr_selected_data = Scimagojr[Scimagojr['Rank'] <= 15]\n",
    "\n",
    "merged_df = pd.merge(Scimagojr_selected_data, GDP_selected_data, on='Country')\n",
    "merged_df = pd.merge(merged_df, Energy, on='Country')\n",
    "result_columns = ['Rank', 'Documents', 'Citable documents', 'Citations', 'Self-citations',\n",
    "                   'Citations per document', 'H index', 'Energy Supply', 'Energy Supply per Capita', '% Renewable',\n",
    "                   '2006', '2007', '2008', '2009', '2010', '2011', '2012', '2013', '2014', '2015']\n",
    "\n",
    "Result = merged_df.set_index('Country')[result_columns]"
   ]
  },
  {
   "cell_type": "markdown",
   "id": "6f8a099c-b9e1-40bd-a78b-7e41f936342c",
   "metadata": {},
   "source": [
    "*Вивід для завдання 7*:"
   ]
  },
  {
   "cell_type": "code",
   "execution_count": 9,
   "id": "b891f14a-c3e5-46a6-8e1c-a5c16abdc6e3",
   "metadata": {},
   "outputs": [
    {
     "data": {
      "text/html": [
       "<div>\n",
       "<style scoped>\n",
       "    .dataframe tbody tr th:only-of-type {\n",
       "        vertical-align: middle;\n",
       "    }\n",
       "\n",
       "    .dataframe tbody tr th {\n",
       "        vertical-align: top;\n",
       "    }\n",
       "\n",
       "    .dataframe thead th {\n",
       "        text-align: right;\n",
       "    }\n",
       "</style>\n",
       "<table border=\"1\" class=\"dataframe\">\n",
       "  <thead>\n",
       "    <tr style=\"text-align: right;\">\n",
       "      <th></th>\n",
       "      <th>Rank</th>\n",
       "      <th>Documents</th>\n",
       "      <th>Citable documents</th>\n",
       "      <th>Citations</th>\n",
       "      <th>Self-citations</th>\n",
       "      <th>Citations per document</th>\n",
       "      <th>H index</th>\n",
       "      <th>Energy Supply</th>\n",
       "      <th>Energy Supply per Capita</th>\n",
       "      <th>% Renewable</th>\n",
       "      <th>2006</th>\n",
       "      <th>2007</th>\n",
       "      <th>2008</th>\n",
       "      <th>2009</th>\n",
       "      <th>2010</th>\n",
       "      <th>2011</th>\n",
       "      <th>2012</th>\n",
       "      <th>2013</th>\n",
       "      <th>2014</th>\n",
       "      <th>2015</th>\n",
       "    </tr>\n",
       "    <tr>\n",
       "      <th>Country</th>\n",
       "      <th></th>\n",
       "      <th></th>\n",
       "      <th></th>\n",
       "      <th></th>\n",
       "      <th></th>\n",
       "      <th></th>\n",
       "      <th></th>\n",
       "      <th></th>\n",
       "      <th></th>\n",
       "      <th></th>\n",
       "      <th></th>\n",
       "      <th></th>\n",
       "      <th></th>\n",
       "      <th></th>\n",
       "      <th></th>\n",
       "      <th></th>\n",
       "      <th></th>\n",
       "      <th></th>\n",
       "      <th></th>\n",
       "      <th></th>\n",
       "    </tr>\n",
       "  </thead>\n",
       "  <tbody>\n",
       "    <tr>\n",
       "      <th>China</th>\n",
       "      <td>1</td>\n",
       "      <td>127050</td>\n",
       "      <td>126767</td>\n",
       "      <td>597237</td>\n",
       "      <td>411683</td>\n",
       "      <td>4.700</td>\n",
       "      <td>138</td>\n",
       "      <td>127191000000.000</td>\n",
       "      <td>93.000</td>\n",
       "      <td>19.755</td>\n",
       "      <td>3992331462570.890</td>\n",
       "      <td>4559041383517.930</td>\n",
       "      <td>4997775145605.960</td>\n",
       "      <td>5459247267275.140</td>\n",
       "      <td>6039658508485.590</td>\n",
       "      <td>6612490294273.650</td>\n",
       "      <td>7124977970399.610</td>\n",
       "      <td>7672447738017.420</td>\n",
       "      <td>8230120617793.520</td>\n",
       "      <td>8797998940421.279</td>\n",
       "    </tr>\n",
       "    <tr>\n",
       "      <th>United States</th>\n",
       "      <td>2</td>\n",
       "      <td>96661</td>\n",
       "      <td>94747</td>\n",
       "      <td>792274</td>\n",
       "      <td>265436</td>\n",
       "      <td>8.200</td>\n",
       "      <td>230</td>\n",
       "      <td>90838000000.000</td>\n",
       "      <td>286.000</td>\n",
       "      <td>11.571</td>\n",
       "      <td>14792303791800.000</td>\n",
       "      <td>15055395304800.000</td>\n",
       "      <td>15011490541400.000</td>\n",
       "      <td>14594842181900.000</td>\n",
       "      <td>14964372000000.000</td>\n",
       "      <td>15204019634600.000</td>\n",
       "      <td>15542161722300.000</td>\n",
       "      <td>15773666098800.000</td>\n",
       "      <td>16156618476000.000</td>\n",
       "      <td>16548573278300.000</td>\n",
       "    </tr>\n",
       "    <tr>\n",
       "      <th>Japan</th>\n",
       "      <td>3</td>\n",
       "      <td>30504</td>\n",
       "      <td>30287</td>\n",
       "      <td>223024</td>\n",
       "      <td>61554</td>\n",
       "      <td>7.310</td>\n",
       "      <td>134</td>\n",
       "      <td>18984000000.000</td>\n",
       "      <td>149.000</td>\n",
       "      <td>10.233</td>\n",
       "      <td>5496541517363.310</td>\n",
       "      <td>5617035943770.730</td>\n",
       "      <td>5558526873313.820</td>\n",
       "      <td>5251308399909.320</td>\n",
       "      <td>5498717815809.770</td>\n",
       "      <td>5473738114222.050</td>\n",
       "      <td>5569101602926.180</td>\n",
       "      <td>5644658523313.420</td>\n",
       "      <td>5642884448582.190</td>\n",
       "      <td>5669563143140.970</td>\n",
       "    </tr>\n",
       "  </tbody>\n",
       "</table>\n",
       "</div>"
      ],
      "text/plain": [
       "               Rank  Documents  Citable documents  Citations  Self-citations  \\\n",
       "Country                                                                        \n",
       "China             1     127050             126767     597237          411683   \n",
       "United States     2      96661              94747     792274          265436   \n",
       "Japan             3      30504              30287     223024           61554   \n",
       "\n",
       "               Citations per document  H index    Energy Supply  \\\n",
       "Country                                                           \n",
       "China                           4.700      138 127191000000.000   \n",
       "United States                   8.200      230  90838000000.000   \n",
       "Japan                           7.310      134  18984000000.000   \n",
       "\n",
       "               Energy Supply per Capita  % Renewable               2006  \\\n",
       "Country                                                                   \n",
       "China                            93.000       19.755  3992331462570.890   \n",
       "United States                   286.000       11.571 14792303791800.000   \n",
       "Japan                           149.000       10.233  5496541517363.310   \n",
       "\n",
       "                            2007               2008               2009  \\\n",
       "Country                                                                  \n",
       "China          4559041383517.930  4997775145605.960  5459247267275.140   \n",
       "United States 15055395304800.000 15011490541400.000 14594842181900.000   \n",
       "Japan          5617035943770.730  5558526873313.820  5251308399909.320   \n",
       "\n",
       "                            2010               2011               2012  \\\n",
       "Country                                                                  \n",
       "China          6039658508485.590  6612490294273.650  7124977970399.610   \n",
       "United States 14964372000000.000 15204019634600.000 15542161722300.000   \n",
       "Japan          5498717815809.770  5473738114222.050  5569101602926.180   \n",
       "\n",
       "                            2013               2014               2015  \n",
       "Country                                                                 \n",
       "China          7672447738017.420  8230120617793.520  8797998940421.279  \n",
       "United States 15773666098800.000 16156618476000.000 16548573278300.000  \n",
       "Japan          5644658523313.420  5642884448582.190  5669563143140.970  "
      ]
     },
     "execution_count": 9,
     "metadata": {},
     "output_type": "execute_result"
    }
   ],
   "source": [
    "Result.head(3)"
   ]
  },
  {
   "cell_type": "code",
   "execution_count": 10,
   "id": "a1443bd2-7d7f-4df5-bb38-a83d2964261e",
   "metadata": {},
   "outputs": [
    {
     "data": {
      "text/plain": [
       "(15, 20)"
      ]
     },
     "execution_count": 10,
     "metadata": {},
     "output_type": "execute_result"
    }
   ],
   "source": [
    "Result.shape"
   ]
  },
  {
   "cell_type": "markdown",
   "id": "32de5ef2-7aeb-4e36-a9bc-bbda22a3b690",
   "metadata": {},
   "source": [
    "**<center>Завдання 8 – 14 слід розв’язувати за допомогою датафрейму із завдання 7.</center>**"
   ]
  },
  {
   "cell_type": "markdown",
   "id": "dbd43823-d239-49c5-9cea-ab0326f0d37d",
   "metadata": {},
   "source": [
    "8. Створіть функцію, щоб визначити середній ВВП країн за останні 10 років.  \n",
    "*Ця функція повинна повертати об’єкт Series з 15 країнами та їх середній ВВП, відсортований за спаданням.*"
   ]
  },
  {
   "cell_type": "code",
   "execution_count": 11,
   "id": "3ea87466-5a1f-432f-8673-83463c571f50",
   "metadata": {},
   "outputs": [],
   "source": [
    "def task_eight():\n",
    "    Result['avgGDP'] = Result.loc[:, '2006':'2015'].mean(axis=1)\n",
    "    result_series = Result['avgGDP'].sort_values(ascending=False)\n",
    "    \n",
    "    return result_series"
   ]
  },
  {
   "cell_type": "markdown",
   "id": "49184f59-88f4-4eea-8f50-36c75f42f316",
   "metadata": {},
   "source": [
    "*Вивід для завдання 8*:"
   ]
  },
  {
   "cell_type": "code",
   "execution_count": 12,
   "id": "e7f9649c-2faf-4af7-9a81-5f2554304ad9",
   "metadata": {},
   "outputs": [
    {
     "data": {
      "text/plain": [
       "Country\n",
       "United States        15364344302990.000\n",
       "China                 6348608932836.100\n",
       "Japan                 5542207638235.176\n",
       "Germany               3493025339072.848\n",
       "France                2681724635761.589\n",
       "United Kingdom        2487906661418.417\n",
       "Brazil                2189794143774.905\n",
       "Italy                 2120175089933.776\n",
       "India                 1769297396603.860\n",
       "Canada                1660647466307.512\n",
       "Russian Federation    1565459478480.661\n",
       "Spain                 1418078278145.694\n",
       "Australia             1164042729991.427\n",
       "South Korea           1106714508244.852\n",
       "Iran                   444155754051.095\n",
       "Name: avgGDP, dtype: float64"
      ]
     },
     "execution_count": 12,
     "metadata": {},
     "output_type": "execute_result"
    }
   ],
   "source": [
    "task_eight()"
   ]
  },
  {
   "cell_type": "markdown",
   "id": "18ec2e55-be4a-4e7b-8300-488a3ef6f880",
   "metadata": {},
   "source": [
    "9. Створіть функцію, щоб визначити, наскільки змінився ВВП за останні 10 років для країни з 5-м середнім ВВП.  \n",
    "*Ця функція повинна повертати кортеж із назвою країни та значенням, на яке змінився ВВП.*"
   ]
  },
  {
   "cell_type": "code",
   "execution_count": 13,
   "id": "9b2b2e93-7d14-4fac-9dcc-7f777941ed11",
   "metadata": {},
   "outputs": [],
   "source": [
    "def task_nine():\n",
    "    sorted_avgGDP = task_eight()\n",
    "    fifth_country = sorted_avgGDP.index[4]\n",
    "    gdp_change = Result.loc[fifth_country, '2015'] - Result.loc[fifth_country, '2006']\n",
    "\n",
    "    return fifth_country, gdp_change"
   ]
  },
  {
   "cell_type": "markdown",
   "id": "57658ce0-277e-48ec-a386-7ea338233f1c",
   "metadata": {},
   "source": [
    "*Вивід для завдання 9*:"
   ]
  },
  {
   "cell_type": "code",
   "execution_count": 14,
   "id": "1a82c6b9-3754-4480-9f45-593b99efff9d",
   "metadata": {},
   "outputs": [
    {
     "data": {
      "text/plain": [
       "('France', 153345695364.24023)"
      ]
     },
     "execution_count": 14,
     "metadata": {},
     "output_type": "execute_result"
    }
   ],
   "source": [
    "task_nine()"
   ]
  },
  {
   "cell_type": "markdown",
   "id": "c3120725-3a0b-4ffc-9b6a-80e326c03242",
   "metadata": {},
   "source": [
    "10. Створіть функцію, щоб визначити, в якій країні встановлено максимум поновлюваних джерел енергії (% Renewable) та який саме відсоток.  \n",
    "*Ця функція повинна повертати кортеж із назвою країни та відсотком.* "
   ]
  },
  {
   "cell_type": "code",
   "execution_count": 15,
   "id": "a79aac1a-75a7-4095-975e-02338d9c6666",
   "metadata": {},
   "outputs": [],
   "source": [
    "def task_ten():\n",
    "    max_renewable_country = Result['% Renewable'].idxmax()\n",
    "    max_renewable_value = Result.loc[max_renewable_country, '% Renewable']\n",
    "\n",
    "    return max_renewable_country, max_renewable_value"
   ]
  },
  {
   "cell_type": "markdown",
   "id": "aec283a7-90f6-4155-b9bd-fb902a10bbc4",
   "metadata": {},
   "source": [
    "*Вивід для завдання 10*:"
   ]
  },
  {
   "cell_type": "code",
   "execution_count": 16,
   "id": "9d3a8812-34d8-4742-88b6-22b15b018652",
   "metadata": {},
   "outputs": [
    {
     "data": {
      "text/plain": [
       "('Brazil', 69.64803)"
      ]
     },
     "execution_count": 16,
     "metadata": {},
     "output_type": "execute_result"
    }
   ],
   "source": [
    "task_ten()"
   ]
  },
  {
   "cell_type": "markdown",
   "id": "28f5971a-988a-4de1-b4fd-6064c2d4ab96",
   "metadata": {},
   "source": [
    "11. Створіть стовпець, в якому оцінюється чисельність населення. Для пошуку оцінки використовуйте значення енергопостачання (Energy Supply) та енергопостачання на душу населення (Energy Supply per capita). Яка країна є шостою за цією оцінкою?  \n",
    "*Ця функція повинна повертати кортеж із назвою країни та населенням.*"
   ]
  },
  {
   "cell_type": "code",
   "execution_count": 17,
   "id": "c6686957-1189-47ff-b2ac-ada35f8fc102",
   "metadata": {},
   "outputs": [],
   "source": [
    "def task_eleven():\n",
    "    Result['Population'] = Result['Energy Supply'] / Result['Energy Supply per Capita']\n",
    "    sixth_country = Result.sort_values(by='Population', ascending=False).iloc[5]\n",
    "\n",
    "    return sixth_country.name, sixth_country['Population']"
   ]
  },
  {
   "cell_type": "markdown",
   "id": "455da229-a9ad-4169-a3b2-a34e1a96dcce",
   "metadata": {},
   "source": [
    "*Вивід для завдання 11*:"
   ]
  },
  {
   "cell_type": "code",
   "execution_count": 18,
   "id": "ab6c14c0-cd5a-42bc-a6ca-485330c254d9",
   "metadata": {},
   "outputs": [
    {
     "data": {
      "text/plain": [
       "('Japan', 127409395.97315437)"
      ]
     },
     "execution_count": 18,
     "metadata": {},
     "output_type": "execute_result"
    }
   ],
   "source": [
    "task_eleven()"
   ]
  },
  {
   "cell_type": "markdown",
   "id": "cc8020e2-3852-4c3a-bfe6-825c1caa5d45",
   "metadata": {},
   "source": [
    "12. Створіть стовпець, в якому оцінюється кількість цитованих документів на одну особу. Який взаємозв'язок між кількістю цитованих документів на душу населення та енергозабезпеченням на душу населення? Використовуйте метод `.corr()` (кореляція Пірсона).  \n",
    "*Ця функція повинна повертати одне число.*"
   ]
  },
  {
   "cell_type": "code",
   "execution_count": 19,
   "id": "9db3e32b-be0a-4555-a594-a4ad5874627c",
   "metadata": {},
   "outputs": [],
   "source": [
    "def task_twelve():\n",
    "    Result['Citations Documents per Capita'] = Result['Citable documents'] / Result['Population']    # round(Result['Population'], 7)\n",
    "    correlation = Result['Citations Documents per Capita'].corr(Result['Energy Supply per Capita'])\n",
    "\n",
    "    return correlation"
   ]
  },
  {
   "cell_type": "markdown",
   "id": "e5924df0-8884-4b9c-9bfe-893f3a21d5dc",
   "metadata": {},
   "source": [
    "*Вивід для завдання 12*:"
   ]
  },
  {
   "cell_type": "code",
   "execution_count": 20,
   "id": "b7d3ede5-20b1-4615-8fc4-3cde69a9959b",
   "metadata": {},
   "outputs": [
    {
     "data": {
      "text/plain": [
       "0.7940010435442946"
      ]
     },
     "execution_count": 20,
     "metadata": {},
     "output_type": "execute_result"
    }
   ],
   "source": [
    "task_twelve()"
   ]
  },
  {
   "cell_type": "markdown",
   "id": "ad10b452-5c79-4ba4-a151-0523179321e4",
   "metadata": {},
   "source": [
    "13. Створіть новий стовпчик в який занесіть 1, якщо значення % відновлюваної енергії (% Renewable) країни дорівнює або вище медіани для всіх країн, і 0, якщо значення (% Renewable) нижче медіани.  \n",
    "*Ця функція повинна повертати Series, індексом якого є назва країни, відсортована у порядку зростання Rank.*"
   ]
  },
  {
   "cell_type": "code",
   "execution_count": 21,
   "id": "df623a62-ed32-4b2c-b056-3d4bcfd1fd13",
   "metadata": {},
   "outputs": [],
   "source": [
    "def task_thirteen():\n",
    "    renewable_median = Result['% Renewable'].median()\n",
    "    Result['High Renewable'] = Result['% Renewable'].apply(lambda x: 1 if x >= renewable_median else 0)\n",
    "    result_series = Result.sort_values(by='Rank')['High Renewable']\n",
    "\n",
    "    return result_series"
   ]
  },
  {
   "cell_type": "markdown",
   "id": "19d10124-498a-42bc-b3d2-42f388839be8",
   "metadata": {},
   "source": [
    "*Вивід для завдання 13*:"
   ]
  },
  {
   "cell_type": "code",
   "execution_count": 22,
   "id": "ff02d10c-afd7-4158-b9a8-6e7c2e94ad33",
   "metadata": {},
   "outputs": [
    {
     "data": {
      "text/plain": [
       "Country\n",
       "China                 1\n",
       "United States         0\n",
       "Japan                 0\n",
       "United Kingdom        0\n",
       "Russian Federation    1\n",
       "Canada                1\n",
       "Germany               1\n",
       "India                 0\n",
       "France                1\n",
       "South Korea           0\n",
       "Italy                 1\n",
       "Spain                 1\n",
       "Iran                  0\n",
       "Australia             0\n",
       "Brazil                1\n",
       "Name: High Renewable, dtype: int64"
      ]
     },
     "execution_count": 22,
     "metadata": {},
     "output_type": "execute_result"
    }
   ],
   "source": [
    "task_thirteen()"
   ]
  },
  {
   "cell_type": "markdown",
   "id": "c6e3e4b9-c55b-4921-a953-4bdbfbb90ae7",
   "metadata": {},
   "source": [
    "14. Використайте наступний словник, щоб згрупувати країни за континентами, потім створіть DataFrame, який відображає розмір вибірки (кількість країн на кожному континенті), а також суму, середнє та стандартне відхилення для оцінки кількості населення для кожної країни.  \n",
    "```\n",
    "ContinentDict = {'China':'Asia',\n",
    "                'United States':'North America',\n",
    "                'Japan':'Asia',\n",
    "                'United Kingdom':'Europe',\n",
    "                'Russian Federation':'Europe',\n",
    "                'Canada':'North America',\n",
    "                'Germany':'Europe',\n",
    "                'India':'Asia',\n",
    "                'France':'Europe',\n",
    "                'South Korea':'Asia',\n",
    "                'Italy':'Europe',\n",
    "                'Spain':'Europe',\n",
    "                'Iran':'Asia',\n",
    "                'Australia':'Australia',\n",
    "                'Brazil':'South America'}\n",
    "```\n",
    "\n",
    "*Ця функція повинна повертати DataFrame з індексом, що має ім’я Continent `['Asia', 'Australia', 'Europe', 'North America', 'South America']` та стовпцями `['size', 'sum', 'mean', 'std ']`.*"
   ]
  },
  {
   "cell_type": "code",
   "execution_count": 23,
   "id": "c443a553-7df5-4ef7-ae42-cf6908d71ed2",
   "metadata": {},
   "outputs": [],
   "source": [
    "ContinentDict = {'China':'Asia',\n",
    "                'United States':'North America',\n",
    "                'Japan':'Asia',\n",
    "                'United Kingdom':'Europe',\n",
    "                'Russian Federation':'Europe',\n",
    "                'Canada':'North America',\n",
    "                'Germany':'Europe',\n",
    "                'India':'Asia',\n",
    "                'France':'Europe',\n",
    "                'South Korea':'Asia',\n",
    "                'Italy':'Europe',\n",
    "                'Spain':'Europe',\n",
    "                'Iran':'Asia',\n",
    "                'Australia':'Australia',\n",
    "                'Brazil':'South America'}\n",
    "\n",
    "def task_forteen():\n",
    "    Result['Continent'] = Result.index.map(ContinentDict)\n",
    "    Continents_df = Result.groupby('Continent')['Population'].agg(['size', 'sum', 'mean', 'std'])\n",
    "    \n",
    "    return Continents_df"
   ]
  },
  {
   "cell_type": "markdown",
   "id": "3d8f3686-8dac-4ced-ac15-68fef4c274d1",
   "metadata": {},
   "source": [
    "*Вивід для завдання 14*:"
   ]
  },
  {
   "cell_type": "code",
   "execution_count": 24,
   "id": "a098eab0-f63a-4c33-96ad-601c2066445c",
   "metadata": {},
   "outputs": [
    {
     "data": {
      "text/html": [
       "<div>\n",
       "<style scoped>\n",
       "    .dataframe tbody tr th:only-of-type {\n",
       "        vertical-align: middle;\n",
       "    }\n",
       "\n",
       "    .dataframe tbody tr th {\n",
       "        vertical-align: top;\n",
       "    }\n",
       "\n",
       "    .dataframe thead th {\n",
       "        text-align: right;\n",
       "    }\n",
       "</style>\n",
       "<table border=\"1\" class=\"dataframe\">\n",
       "  <thead>\n",
       "    <tr style=\"text-align: right;\">\n",
       "      <th></th>\n",
       "      <th>size</th>\n",
       "      <th>sum</th>\n",
       "      <th>mean</th>\n",
       "      <th>std</th>\n",
       "    </tr>\n",
       "    <tr>\n",
       "      <th>Continent</th>\n",
       "      <th></th>\n",
       "      <th></th>\n",
       "      <th></th>\n",
       "      <th></th>\n",
       "    </tr>\n",
       "  </thead>\n",
       "  <tbody>\n",
       "    <tr>\n",
       "      <th>Asia</th>\n",
       "      <td>5</td>\n",
       "      <td>2898666386.611</td>\n",
       "      <td>579733277.322</td>\n",
       "      <td>679097888.366</td>\n",
       "    </tr>\n",
       "    <tr>\n",
       "      <th>Australia</th>\n",
       "      <td>1</td>\n",
       "      <td>23316017.316</td>\n",
       "      <td>23316017.316</td>\n",
       "      <td>NaN</td>\n",
       "    </tr>\n",
       "    <tr>\n",
       "      <th>Europe</th>\n",
       "      <td>6</td>\n",
       "      <td>457929667.216</td>\n",
       "      <td>76321611.203</td>\n",
       "      <td>34647667.066</td>\n",
       "    </tr>\n",
       "    <tr>\n",
       "      <th>North America</th>\n",
       "      <td>2</td>\n",
       "      <td>352855249.480</td>\n",
       "      <td>176427624.740</td>\n",
       "      <td>199669644.857</td>\n",
       "    </tr>\n",
       "    <tr>\n",
       "      <th>South America</th>\n",
       "      <td>1</td>\n",
       "      <td>205915254.237</td>\n",
       "      <td>205915254.237</td>\n",
       "      <td>NaN</td>\n",
       "    </tr>\n",
       "  </tbody>\n",
       "</table>\n",
       "</div>"
      ],
      "text/plain": [
       "               size            sum          mean           std\n",
       "Continent                                                     \n",
       "Asia              5 2898666386.611 579733277.322 679097888.366\n",
       "Australia         1   23316017.316  23316017.316           NaN\n",
       "Europe            6  457929667.216  76321611.203  34647667.066\n",
       "North America     2  352855249.480 176427624.740 199669644.857\n",
       "South America     1  205915254.237 205915254.237           NaN"
      ]
     },
     "execution_count": 24,
     "metadata": {},
     "output_type": "execute_result"
    }
   ],
   "source": [
    "task_forteen()"
   ]
  },
  {
   "cell_type": "markdown",
   "id": "c50ccfaf-bc8f-46fb-8c87-76957616ead4",
   "metadata": {},
   "source": [
    "15. Створіть бульбашкову діаграму, що відображає залежність % поновлюваних джерел від рейтингу країни (% Renewable vs. Rank). Розмір бульбашки відповідає ВВП країн 2015 року, а колір відповідає континенту."
   ]
  },
  {
   "cell_type": "markdown",
   "id": "0f0a63e4-e4ce-406f-8a81-8eaae5c9c098",
   "metadata": {},
   "source": [
    "*Вивід для завдання 15*:"
   ]
  },
  {
   "cell_type": "code",
   "execution_count": 25,
   "id": "5badfb6f-0fc5-43b5-b836-4a9544cf276d",
   "metadata": {},
   "outputs": [
    {
     "data": {
      "image/png": "[encoded data removed]",
      "text/plain": [
       "<Figure size 1800x400 with 1 Axes>"
      ]
     },
     "metadata": {},
     "output_type": "display_data"
    }
   ],
   "source": [
    "import matplotlib.pyplot as plt\n",
    "\n",
    "x_values = Result['Rank']\n",
    "y_values = Result['% Renewable']\n",
    "hue_values = Result['Continent']\n",
    "size = Result['2015'] / 0.2e10\n",
    "country_names = Result.index\n",
    "\n",
    "colors = {'Asia': 'red',\n",
    "          'Australia': 'yellow',\n",
    "          'Europe': 'green',\n",
    "          'North America': 'blue',\n",
    "          'South America': 'orange'}\n",
    "\n",
    "\n",
    "plt.figure(figsize=(18, 4))\n",
    "plt.scatter(x_values, y_values, c=[colors[h] for h in hue_values], s=size, alpha=0.6)\n",
    "\n",
    "for i, name in enumerate(country_names):\n",
    "    plt.text(x_values.iloc[i], y_values.iloc[i], name, ha='center', va='center')\n",
    "\n",
    "plt.xticks(x_values)\n",
    "plt.xlabel('Rank')\n",
    "plt.ylabel('% Renewable')\n",
    "plt.title('Bubble chart')\n",
    "\n",
    "plt.show()"
   ]
  },
  {
   "cell_type": "markdown",
   "id": "3d047d16-61dd-42b4-aa89-9f8bee9ebffb",
   "metadata": {},
   "source": [
    "### <center>Висновки</center>\n",
    "В результаті виконання лабораторної роботи були вдосконаленні навички роботи із бібліотекою Pandas, а також вивченні нові функції Pandas для злиття, агрегування та візуалізації даних. Головною особливістю було злиття декількох наборів даних в один для подальшої роботи лише з потрібними нам даними. Далі була виконана робота з обробки даних і знаходження нових значень на основі тих, що вже були. Наприкінці була намальована бульбашкова діаграма, для візуалізації залежності деяких значень, яка для наочності мала різнокольоровість та підписи на бульбашках. Відпрацювання таких навичок є дуже корисною практикою для подальшої роботи з вибором та злиттям даних з різних наборів даних."
   ]
  },
  {
   "cell_type": "markdown",
   "id": "11a908fb-0a86-4fc1-8e76-9241b629f0d7",
   "metadata": {},
   "source": [
    "#### <center>Посилання на [GitHub](https://github.com/Tryba-dyp/Python_labs_2023)</center>"
   ]
  }
 ],
 "metadata": {
  "kernelspec": {
   "display_name": "Python 3 (ipykernel)",
   "language": "python",
   "name": "python3"
  },
  "language_info": {
   "codemirror_mode": {
    "name": "ipython",
    "version": 3
   },
   "file_extension": ".py",
   "mimetype": "text/x-python",
   "name": "python",
   "nbconvert_exporter": "python",
   "pygments_lexer": "ipython3",
   "version": "3.12.0"
  }
 },
 "nbformat": 4,
 "nbformat_minor": 5
}
